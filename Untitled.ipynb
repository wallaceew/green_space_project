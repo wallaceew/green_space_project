{
 "cells": [
  {
   "cell_type": "code",
   "execution_count": 1,
   "id": "faa211d7-26e2-4d0b-806d-106de28f7b96",
   "metadata": {},
   "outputs": [],
   "source": [
    "%matplotlib inline\n",
    "\n",
    "import numpy as np\n",
    "import rasterio as rio\n",
    "import pandas as pd\n",
    "import geopandas as gpd\n",
    "import matplotlib.pyplot as plt\n",
    "import rasterstats"
   ]
  },
  {
   "cell_type": "code",
   "execution_count": 2,
   "id": "593d1e0a-65ee-4fe9-a3a0-22e6d8fbf1f4",
   "metadata": {},
   "outputs": [],
   "source": [
    "# Define the landcover class names in a list\n",
    "names = ['Broadleaf woodland', 'Coniferous woodland', 'Arable and Horticulture', 'Improved grassland', \n",
    "         'Semi-natural grassland', 'Mountain, heath, bog', 'Saltwater', 'Freshwater', 'Coastal', \n",
    "         'Built-up areas and gardens', 'Neutral Grassland', 'Calcareous Grassland', 'Acid Grassland', \n",
    "         'Heather', 'Heather grassland', 'Fen, Marsh and Swamp', 'Bog', 'Inland Rock', 'Urban', \n",
    "         'Suburban', 'Supra-littoral Rock', 'Supra-littoral Sediment', 'Littoral Rock']\n",
    "\n",
    "values = range(1, 24)  # Get numbers from 1-23, corresponding to the landcover values\n"
   ]
  },
  {
   "cell_type": "code",
   "execution_count": 3,
   "id": "8c38c999-6bd6-443c-b557-28d8fa06f994",
   "metadata": {},
   "outputs": [],
   "source": [
    "# Create a dictionary of landcover value/name pairs\n",
    "landcover_names = dict(zip(values, names))"
   ]
  },
  {
   "cell_type": "code",
   "execution_count": 4,
   "id": "0f3de540-6628-4996-b160-1e75d30e063d",
   "metadata": {},
   "outputs": [],
   "source": [
    "# Load the Liverpool landuse raster data\n",
    "with rio.open('C:/EGM722/egm722/green_space_project/raster/LCM2015_Liverpool.tif') as dataset:\n",
    "    xmin, ymin, xmax, ymax = dataset.bounds\n",
    "    crs = dataset.crs\n",
    "    landcover = dataset.read(1)\n",
    "    affine_tfm = dataset.transform"
   ]
  },
  {
   "cell_type": "code",
   "execution_count": 5,
   "id": "e4c2d9e3-5537-4b8b-b02b-a84be04f4ef4",
   "metadata": {},
   "outputs": [],
   "source": [
    "# Load the Liverpool wards shapefile\n",
    "wards = gpd.read_file('C:/EGM722/egm722/green_space_project/data_files/wards.shp').to_crs(crs)\n"
   ]
  },
  {
   "cell_type": "code",
   "execution_count": 39,
   "id": "0e86a2a5-7bc9-4a4f-9002-4682a82139ce",
   "metadata": {},
   "outputs": [
    {
     "name": "stdout",
     "output_type": "stream",
     "text": [
      "    WARDNUMBER           WARDNAME DISTRICTNA  COUNTYNAME  NOCLLRS  \\\n",
      "0          1.0           Aigburth  Liverpool  Merseyside      1.0   \n",
      "1         10.0          Childwall  Liverpool  Merseyside      2.0   \n",
      "2         11.0             Church  Liverpool  Merseyside      1.0   \n",
      "3         12.0  City Centre North  Liverpool  Merseyside      2.0   \n",
      "4         13.0  City Centre South  Liverpool  Merseyside      3.0   \n",
      "..         ...                ...        ...         ...      ...   \n",
      "59        63.0    Woolton Village  Liverpool  Merseyside      1.0   \n",
      "60        64.0           Yew Tree  Liverpool  Merseyside      2.0   \n",
      "61         7.0      Brownlow Hill  Liverpool  Merseyside      2.0   \n",
      "62         8.0       Calderstones  Liverpool  Merseyside      1.0   \n",
      "63         9.0            Canning  Liverpool  Merseyside      2.0   \n",
      "\n",
      "           WD23CD                                           geometry  \n",
      "0   E05015277\\r\\n  POLYGON ((-2.92245 53.35724, -2.92247 53.35725...  \n",
      "1   E05015286\\r\\n  POLYGON ((-2.88995 53.40698, -2.88971 53.40701...  \n",
      "2   E05015287\\r\\n  POLYGON ((-2.91825 53.39850, -2.91766 53.39844...  \n",
      "3   E05015288\\r\\n  POLYGON ((-2.98199 53.41382, -2.98191 53.41374...  \n",
      "4   E05015289\\r\\n  POLYGON ((-2.97830 53.40529, -2.97827 53.40525...  \n",
      "..            ...                                                ...  \n",
      "59  E05015339\\r\\n  POLYGON ((-2.88378 53.38728, -2.88353 53.38723...  \n",
      "60  E05015340\\r\\n  POLYGON ((-2.88119 53.41964, -2.88120 53.41969...  \n",
      "61  E05015283\\r\\n  POLYGON ((-2.96227 53.41193, -2.96217 53.41173...  \n",
      "62  E05015284\\r\\n  POLYGON ((-2.90230 53.39127, -2.90212 53.39121...  \n",
      "63  E05015285\\r\\n  POLYGON ((-2.96111 53.40749, -2.96027 53.40741...  \n",
      "\n",
      "[64 rows x 7 columns]\n"
     ]
    }
   ],
   "source": [
    "# inspect data \n",
    "print(wards)"
   ]
  },
  {
   "cell_type": "code",
   "execution_count": 36,
   "id": "f1cc5c05-66bf-4125-a87a-b6071fc4a8f6",
   "metadata": {},
   "outputs": [
    {
     "name": "stdout",
     "output_type": "stream",
     "text": [
      "             wardname\n",
      "0            Aigburth\n",
      "1           Childwall\n",
      "2              Church\n",
      "3   City_Centre_North\n",
      "4   City_Centre_South\n",
      "..                ...\n",
      "59    Woolton_Village\n",
      "60           Yew_Tree\n",
      "61      Brownlow_Hill\n",
      "62       Calderstones\n",
      "63            Canning\n",
      "\n",
      "[64 rows x 1 columns]\n"
     ]
    }
   ],
   "source": [
    "# getting rid of spaces in ward names \n",
    "\n",
    "data = {\n",
    "    'wardname': ['Aigburth', 'Childwall', 'Church', 'City Centre North', 'City Centre South', 'Clubmoor East', 'Clubmoor West', 'County', 'Croxteth', 'Croxteth Country Park', 'Dingle', 'Allerton', 'Edge Hill', 'Everton East', 'Everton North', 'Everton West', 'Fazakerley East', 'Fazakerley North', 'Fazakerley West', 'Festival Gardens', 'Garston', 'Gateacre', 'Anfield', 'Grassendale & Cressington', 'Greenbank Park', 'Kensington & Fairfield', 'Kirkdale East', 'Kirkdale West', 'Knotty Ash & Dovecot Park', 'Mossley Hill', 'Much Woolton & Hunts Cross', 'Norris Green', 'Old Swan East', 'Arundel', 'Old Swan West', 'Orrell Park', 'Penny Lane', 'Princes Park', 'Sandfield Park', 'Sefton Park', 'Smithdown', 'Speke', 'Springwood', 'St Michaels', 'Belle Vale', 'Stoneycroft', 'Toxteth', 'Tuebrook Breckside Park', 'Tuebrook Larkhill', 'Vauxhall', 'Walton', 'Waterfront North', 'Waterfront South', 'Wavertree Garden Suburb', 'Wavertree Village', 'Broadgreen', 'West Derby Deysbrook', 'West Derby Leyfield', 'West Derby Muirhead', 'Woolton Village', 'Yew Tree', 'Brownlow Hill', 'Calderstones', 'Canning']\n",
    "              }\n",
    "\n",
    "# creating data frame from data to edit wardname column\n",
    "df = pd.DataFrame(data)\n",
    "\n",
    "# replace spaces in 'wardname' with underscore\n",
    "df['wardname'] = df['wardname'].str.replace(\" \", \"_\")\n",
    "\n",
    "print(df)"
   ]
  },
  {
   "cell_type": "code",
   "execution_count": 6,
   "id": "b0e1640e-ca4f-4fb3-b0e8-29b6319084d4",
   "metadata": {},
   "outputs": [],
   "source": [
    "# Define a function to count unique landcover classes\n",
    "def count_unique(array, names, nodata=0):\n",
    "    '''\n",
    "    Count the unique elements of an array.\n",
    "\n",
    "    :param array: Input array\n",
    "    :param names: a dict of key/value pairs that map raster values to a name\n",
    "    :param nodata: nodata value to ignore in the counting\n",
    "\n",
    "    :returns count_dict: a dictionary of unique values and counts\n",
    "    '''\n",
    "    count_dict = dict()  # Create the output dict\n",
    "    for val in np.unique(array):  # Iterate over the unique values for the raster\n",
    "        if val == nodata:  # If the value is equal to our nodata value, move on to the next one\n",
    "            continue\n",
    "        count_dict[names[val]] = np.count_nonzero(array == val)\n",
    "    return count_dict  # Return the now-populated output dict"
   ]
  },
  {
   "cell_type": "code",
   "execution_count": 7,
   "id": "24027296-bc91-46ca-a077-a2ec13c69970",
   "metadata": {},
   "outputs": [
    {
     "name": "stdout",
     "output_type": "stream",
     "text": [
      "The following values are missing from the landcover_names dictionary: [0]\n",
      "{'Broadleaf woodland': 17356, 'Coniferous woodland': 561, 'Arable and Horticulture': 18787, 'Improved grassland': 25582, 'Semi-natural grassland': 12272, 'Acid Grassland': 495, 'Heather': 3448, 'Fen, Marsh and Swamp': 2674, 'Bog': 810, 'Inland Rock': 43112, 'Urban': 665, 'Suburban': 75398, 'Supra-littoral Rock': 130499}\n"
     ]
    }
   ],
   "source": [
    "# Check unique values in the Liverpool landuse raster\n",
    "unique_values = np.unique(landcover)\n",
    "\n",
    "# Compare unique values with keys in the landcover_names dictionary\n",
    "missing_values = [val for val in unique_values if val not in landcover_names.keys()]\n",
    "\n",
    "# Display missing values\n",
    "if missing_values:\n",
    "    print(\"The following values are missing from the landcover_names dictionary:\", missing_values)\n",
    "else:\n",
    "    print(\"All unique values in the landcover raster are accounted for in the landcover_names dictionary.\")\n",
    "\n",
    "# Update the landcover_names dictionary to include missing values\n",
    "for missing_val in missing_values:\n",
    "    landcover_names[missing_val] = f\"Unknown_{missing_val}\"\n",
    "\n",
    "# Recount unique landcover classes in the Liverpool landuse raster\n",
    "landcover_count = count_unique(landcover, landcover_names)\n",
    "print(landcover_count)  # Show the updated results\n"
   ]
  },
  {
   "cell_type": "code",
   "execution_count": 8,
   "id": "0bb751fc-97fc-4378-89f6-23fd6dfa5f62",
   "metadata": {},
   "outputs": [
    {
     "name": "stdout",
     "output_type": "stream",
     "text": [
      "{'Broadleaf woodland': 17356, 'Coniferous woodland': 561, 'Arable and Horticulture': 18787, 'Improved grassland': 25582, 'Semi-natural grassland': 12272, 'Acid Grassland': 495, 'Heather': 3448, 'Fen, Marsh and Swamp': 2674, 'Bog': 810, 'Inland Rock': 43112, 'Urban': 665, 'Suburban': 75398, 'Supra-littoral Rock': 130499}\n"
     ]
    }
   ],
   "source": [
    "# Count unique landcover classes in the Liverpool landuse raster\n",
    "landcover_count = count_unique(landcover, landcover_names)\n",
    "print(landcover_count)  # Show the results\n"
   ]
  },
  {
   "cell_type": "code",
   "execution_count": 40,
   "id": "626550cb-5f64-489b-9629-e214ee753cca",
   "metadata": {},
   "outputs": [],
   "source": [
    "names = [n.title() for n in df['wardname']] # getting a list of county names using a list comprehension formatted with str.title() for lowercase"
   ]
  },
  {
   "cell_type": "code",
   "execution_count": 41,
   "id": "86bcc675-27e9-4733-b2cf-570d7984912d",
   "metadata": {},
   "outputs": [
    {
     "name": "stdout",
     "output_type": "stream",
     "text": [
      "['Aigburth', 'Childwall', 'Church', 'City_Centre_North', 'City_Centre_South', 'Clubmoor_East', 'Clubmoor_West', 'County', 'Croxteth', 'Croxteth_Country_Park', 'Dingle', 'Allerton', 'Edge_Hill', 'Everton_East', 'Everton_North', 'Everton_West', 'Fazakerley_East', 'Fazakerley_North', 'Fazakerley_West', 'Festival_Gardens', 'Garston', 'Gateacre', 'Anfield', 'Grassendale_&_Cressington', 'Greenbank_Park', 'Kensington_&_Fairfield', 'Kirkdale_East', 'Kirkdale_West', 'Knotty_Ash_&_Dovecot_Park', 'Mossley_Hill', 'Much_Woolton_&_Hunts_Cross', 'Norris_Green', 'Old_Swan_East', 'Arundel', 'Old_Swan_West', 'Orrell_Park', 'Penny_Lane', 'Princes_Park', 'Sandfield_Park', 'Sefton_Park', 'Smithdown', 'Speke', 'Springwood', 'St_Michaels', 'Belle_Vale', 'Stoneycroft', 'Toxteth', 'Tuebrook_Breckside_Park', 'Tuebrook_Larkhill', 'Vauxhall', 'Walton', 'Waterfront_North', 'Waterfront_South', 'Wavertree_Garden_Suburb', 'Wavertree_Village', 'Broadgreen', 'West_Derby_Deysbrook', 'West_Derby_Leyfield', 'West_Derby_Muirhead', 'Woolton_Village', 'Yew_Tree', 'Brownlow_Hill', 'Calderstones', 'Canning']\n"
     ]
    }
   ],
   "source": [
    "print(names) #Printing a list of ward names to inspect the data"
   ]
  },
  {
   "cell_type": "code",
   "execution_count": 20,
   "id": "53b06ce4-cf81-4a53-85f9-89bc572b62ab",
   "metadata": {},
   "outputs": [],
   "source": [
    "# Use rasterstats.zonal_stats() to get zonal statistics for Liverpool wards\n"
   ]
  },
  {
   "cell_type": "code",
   "execution_count": 18,
   "id": "a53aff4b-f55a-4757-be16-5d2bed31040f",
   "metadata": {},
   "outputs": [
    {
     "ename": "NameError",
     "evalue": "name 'ward_stats' is not defined",
     "output_type": "error",
     "traceback": [
      "\u001b[1;31m---------------------------------------------------------------------------\u001b[0m",
      "\u001b[1;31mNameError\u001b[0m                                 Traceback (most recent call last)",
      "Cell \u001b[1;32mIn[18], line 2\u001b[0m\n\u001b[0;32m      1\u001b[0m \u001b[38;5;66;03m# Create a dictionary of landcover stats by ward\u001b[39;00m\n\u001b[1;32m----> 2\u001b[0m ward_dict \u001b[38;5;241m=\u001b[39m \u001b[38;5;28mdict\u001b[39m(\u001b[38;5;28mzip\u001b[39m(wards[\u001b[38;5;124m'\u001b[39m\u001b[38;5;124mwardname\u001b[39m\u001b[38;5;124m'\u001b[39m]\u001b[38;5;241m.\u001b[39mstr\u001b[38;5;241m.\u001b[39mtitle(), \u001b[43mward_stats\u001b[49m))\n",
      "\u001b[1;31mNameError\u001b[0m: name 'ward_stats' is not defined"
     ]
    }
   ],
   "source": [
    "# Create a dictionary of landcover stats by ward\n",
    "ward_dict = dict(zip(wards['wardname'].str.title(), ward_stats))\n"
   ]
  },
  {
   "cell_type": "code",
   "execution_count": 15,
   "id": "dfa079d6-1876-4f2e-ab5c-bdc9091e93d5",
   "metadata": {},
   "outputs": [],
   "source": [
    "# Add landcover stats to the wards table\n",
    "short_names = ['broadleaf', 'coniferous', 'arable', 'imp_grass', 'nat_grass',\n",
    "               'mountain', 'saltwater', 'freshwater', 'coastal', 'built_up',\n",
    "               'neutral_grass', 'calcareous_grass', 'acid_grass', 'heather',\n",
    "               'heather_grass', 'fen_marsh_swamp', 'bog', 'inland_rock', 'urban',\n",
    "               'suburban', 'supra_littoral_rock', 'supra_littoral_sediment', 'littoral_rock']\n",
    "short_dict = dict(zip(names, short_names))"
   ]
  },
  {
   "cell_type": "code",
   "execution_count": 24,
   "id": "06f29f47-bc53-4e05-a65b-dc5cc9c409b9",
   "metadata": {},
   "outputs": [
    {
     "ename": "AttributeError",
     "evalue": "'str' object has no attribute 'keys'",
     "output_type": "error",
     "traceback": [
      "\u001b[1;31m---------------------------------------------------------------------------\u001b[0m",
      "\u001b[1;31mAttributeError\u001b[0m                            Traceback (most recent call last)",
      "Cell \u001b[1;32mIn[24], line 11\u001b[0m\n\u001b[0;32m      9\u001b[0m ward_data \u001b[38;5;241m=\u001b[39m short_dict[row[\u001b[38;5;124m'\u001b[39m\u001b[38;5;124mwardname\u001b[39m\u001b[38;5;124m'\u001b[39m]\u001b[38;5;241m.\u001b[39mtitle()] \u001b[38;5;66;03m# get the landcover data for this county\u001b[39;00m\n\u001b[0;32m     10\u001b[0m \u001b[38;5;28;01mfor\u001b[39;00m name \u001b[38;5;129;01min\u001b[39;00m landcover_names\u001b[38;5;241m.\u001b[39mvalues(): \u001b[38;5;66;03m# iterate over each of the landcover class names\u001b[39;00m\n\u001b[1;32m---> 11\u001b[0m     \u001b[38;5;28;01mif\u001b[39;00m name \u001b[38;5;129;01min\u001b[39;00m \u001b[43mward_data\u001b[49m\u001b[38;5;241;43m.\u001b[39;49m\u001b[43mkeys\u001b[49m(): \u001b[38;5;66;03m# check that name is a key of county_data\u001b[39;00m\n\u001b[0;32m     12\u001b[0m         wards\u001b[38;5;241m.\u001b[39mloc[ind, short_dict[name]] \u001b[38;5;241m=\u001b[39m ward_data[name] \u001b[38;5;66;03m# add the landcover count to a new column\u001b[39;00m\n\u001b[0;32m     13\u001b[0m     \u001b[38;5;28;01melse\u001b[39;00m:\n",
      "\u001b[1;31mAttributeError\u001b[0m: 'str' object has no attribute 'keys'"
     ]
    }
   ],
   "source": [
    "# Add a default short name for unknown landcover types\n",
    "short_dict.setdefault('Unknown', 'unknown')\n",
    "\n",
    "\n",
    "\n",
    "\n",
    "\n",
    "for ind, row in wards.iterrows(): # use iterrows to iterate over the rows of the table\n",
    "    ward_data = short_dict[row['wardname'].title()] # get the landcover data for this county\n",
    "    for name in landcover_names.values(): # iterate over each of the landcover class names\n",
    "        if name in ward_data.keys(): # check that name is a key of county_data\n",
    "            wards.loc[ind, short_dict[name]] = ward_data[name] # add the landcover count to a new column\n",
    "        else:\n",
    "            wards.loc[ind, short_dict[name]] = 0 # if name is not present, value should be 0."
   ]
  },
  {
   "cell_type": "code",
   "execution_count": 58,
   "id": "9f93c699-8b31-489d-afd2-f8f1e33448a8",
   "metadata": {},
   "outputs": [
    {
     "data": {
      "image/png": "[encoded data removed]",
      "text/plain": [
       "<Figure size 640x480 with 2 Axes>"
      ]
     },
     "metadata": {},
     "output_type": "display_data"
    }
   ],
   "source": [
    "# import rasterize from rasterio features \n",
    "from rasterio.features import rasterize\n",
    "\n",
    "\n",
    "# Load the landcover raster\n",
    "with rio.open(\"C:/EGM722/egm722/green_space_project/raster/LCM2015_LP.tif\") as src:\n",
    "    landcover = src.read(1)\n",
    "    affine_tfm = src.transform\n",
    "\n",
    "with rio.open('C:/EGM722/egm722/green_space_project/ASTGTM/ASTGTMV003_N53W003_dem.tif') as dataset:\n",
    "    dem = dataset.read(1)\n",
    "    affine_dem = src.transform\n",
    "\n",
    "# Load the wards shapefile\n",
    "df = gpd.read_file(\"C:/EGM722/egm722/green_space_project/data_files/Lwards.shp\")\n",
    "\n",
    "# Rasterize the wards\n",
    "wards_shapes = list(zip(df['geometry'], df['WARDNUMBER']))\n",
    "wards_mask = rasterize(shapes=wards_shapes,\n",
    "                       fill=0,\n",
    "                       out_shape=landcover.shape,\n",
    "                       transform=affine_tfm,\n",
    "                       dtype=np.uint8)\n",
    "\n",
    "# Visualize the rasterized output\n",
    "import matplotlib.pyplot as plt\n",
    "\n",
    "fig, ax = plt.subplots(1, 1)\n",
    "im = ax.imshow(wards_mask, cmap='viridis')  # Use a colormap that distinguishes different values\n",
    "fig.colorbar(im)\n",
    "plt.show()"
   ]
  },
  {
   "cell_type": "code",
   "execution_count": null,
   "id": "f993026c-d83a-465e-98a6-bf80fcd324d8",
   "metadata": {},
   "outputs": [],
   "source": []
  },
  {
   "cell_type": "code",
   "execution_count": null,
   "id": "a678a225-4351-421e-bc1a-60410a9eea20",
   "metadata": {},
   "outputs": [],
   "source": []
  },
  {
   "cell_type": "code",
   "execution_count": null,
   "id": "1edb073b-36fe-49bd-a0d2-e9d9bbbdf67f",
   "metadata": {},
   "outputs": [],
   "source": []
  },
  {
   "cell_type": "code",
   "execution_count": null,
   "id": "66f6176f-a2d9-4073-ba15-5be1686f544a",
   "metadata": {},
   "outputs": [],
   "source": []
  },
  {
   "cell_type": "code",
   "execution_count": 72,
   "id": "42af3cc9-fb4b-4315-a3c6-a2018f2d20e0",
   "metadata": {},
   "outputs": [
    {
     "data": {
      "text/plain": [
       "<matplotlib.image.AxesImage at 0x29287ca43e0>"
      ]
     },
     "execution_count": 72,
     "metadata": {},
     "output_type": "execute_result"
    },
    {
     "data": {
      "image/png": "[encoded data removed]",
      "text/plain": [
       "<Figure size 640x480 with 1 Axes>"
      ]
     },
     "metadata": {},
     "output_type": "display_data"
    }
   ],
   "source": [
    "#display city centre north and south\n",
    "ccnorth_and_ccsouth = np.logical_or(wards_mask == 12, wards_mask == 13)\n",
    "\n",
    "fig, ax = plt.subplots(1, 1)\n",
    "ax.imshow(ccnorth_and_ccsouth)"
   ]
  },
  {
   "cell_type": "code",
   "execution_count": 67,
   "id": "1f2b1ca6-e9ed-4d18-a3df-aa5cb6b26412",
   "metadata": {},
   "outputs": [
    {
     "ename": "IndexError",
     "evalue": "boolean index did not match indexed array along dimension 0; dimension is 3601 but corresponding boolean dimension is 660",
     "output_type": "error",
     "traceback": [
      "\u001b[1;31m---------------------------------------------------------------------------\u001b[0m",
      "\u001b[1;31mIndexError\u001b[0m                                Traceback (most recent call last)",
      "Cell \u001b[1;32mIn[67], line 1\u001b[0m\n\u001b[1;32m----> 1\u001b[0m NS_elevation \u001b[38;5;241m=\u001b[39m \u001b[43mdem\u001b[49m\u001b[43m[\u001b[49m\u001b[43mccnorth_and_ccsouth\u001b[49m\u001b[43m]\u001b[49m \u001b[38;5;66;03m# index the array using the antrim_and_down mask\u001b[39;00m\n\u001b[0;32m      2\u001b[0m \u001b[38;5;28mprint\u001b[39m(\u001b[38;5;124m'\u001b[39m\u001b[38;5;124mMean elevation: \u001b[39m\u001b[38;5;132;01m{:.2f}\u001b[39;00m\u001b[38;5;124m m\u001b[39m\u001b[38;5;124m'\u001b[39m\u001b[38;5;241m.\u001b[39mformat(NS_elevation\u001b[38;5;241m.\u001b[39mmean()))\n",
      "\u001b[1;31mIndexError\u001b[0m: boolean index did not match indexed array along dimension 0; dimension is 3601 but corresponding boolean dimension is 660"
     ]
    }
   ],
   "source": [
    "NS_elevation = dem[ccnorth_and_ccsouth] # index the array using the antrim_and_down mask\n",
    "print('Mean elevation: {:.2f} m'.format(NS_elevation.mean()))"
   ]
  },
  {
   "cell_type": "code",
   "execution_count": 70,
   "id": "695e6dc6-36e3-45a9-bd43-32d679e5aa3a",
   "metadata": {},
   "outputs": [
    {
     "name": "stdout",
     "output_type": "stream",
     "text": [
      "Shape of ccnorth_and_ccsouth: (660, 516)\n",
      "Shape of dem array: (3601, 3601)\n"
     ]
    }
   ],
   "source": [
    "# solving error as shapes did not match\n",
    "# checking shapes of the two \n",
    "print(\"Shape of ccnorth_and_ccsouth:\", ccnorth_and_ccsouth.shape)\n",
    "print(\"Shape of dem array:\", dem.shape)\n"
   ]
  },
  {
   "cell_type": "code",
   "execution_count": 71,
   "id": "958e74e4-2202-4822-84ce-1506be7c102a",
   "metadata": {},
   "outputs": [
    {
     "name": "stdout",
     "output_type": "stream",
     "text": [
      "Mean elevation: 101.33 m\n"
     ]
    }
   ],
   "source": [
    "# fixing error and obtaining the mean elevation of city centre north and south wards\n",
    "# Resize the boolean mask to match the shape of the dem array\n",
    "ccnorth_and_ccsouth_resized = np.resize(ccnorth_and_ccsouth, dem.shape)\n",
    "\n",
    "# Index the dem array using the resized boolean mask\n",
    "NS_elevation = dem[ccnorth_and_ccsouth_resized]\n",
    "\n",
    "# Print the mean elevation\n",
    "print('Mean elevation: {:.2f} m'.format(NS_elevation.mean()))\n"
   ]
  },
  {
   "cell_type": "code",
   "execution_count": null,
   "id": "4e20e438-ce52-4982-8fb3-3b2819bf1a1d",
   "metadata": {},
   "outputs": [],
   "source": []
  }
 ],
 "metadata": {
  "kernelspec": {
   "display_name": "Python 3 (ipykernel)",
   "language": "python",
   "name": "python3"
  },
  "language_info": {
   "codemirror_mode": {
    "name": "ipython",
    "version": 3
   },
   "file_extension": ".py",
   "mimetype": "text/x-python",
   "name": "python",
   "nbconvert_exporter": "python",
   "pygments_lexer": "ipython3",
   "version": "3.12.2"
  }
 },
 "nbformat": 4,
 "nbformat_minor": 5
}
