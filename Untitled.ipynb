{
 "cells": [
  {
   "cell_type": "code",
   "execution_count": 23,
   "id": "db3d6c53-5652-4263-9b28-3b080fe41b83",
   "metadata": {},
   "outputs": [],
   "source": [
    "import numpy as np\n",
    "import rasterio\n",
    "import geopandas as gpd\n",
    "import rasterstats\n",
    "from shapely.geometry import box\n",
    "import matplotlib.pyplot as plt\n"
   ]
  },
  {
   "cell_type": "code",
   "execution_count": 2,
   "id": "5c351833-b660-49e3-8ea8-85a736211f22",
   "metadata": {},
   "outputs": [],
   "source": [
    "# Define the file paths\n",
    "raster_path = r\"C:\\EGM722\\egm722\\green_space_project\\raster\\LCM2015_Liverpool.tif\"\n",
    "wards_path = r\"C:\\EGM722\\egm722\\green_space_project\\data_files\\Lwards.shp\"\n"
   ]
  },
  {
   "cell_type": "code",
   "execution_count": 4,
   "id": "a3cc2dab-8f0b-48c5-bf71-e8ecc79d8f43",
   "metadata": {},
   "outputs": [],
   "source": [
    "# Define the landcover class names\n",
    "names = ['Broadleaf woodland', 'Coniferous woodland', 'Arable and Horticulture', 'Improved grassland', \n",
    "         'Semi-natural grassland', 'Mountain, heath, bog', 'Saltwater', 'Freshwater', 'Coastal', \n",
    "         'Built-up areas and gardens', 'Neutral Grassland', 'Calcareous Grassland', 'Acid Grassland', \n",
    "         'Heather', 'Heather grassland', 'Fen, Marsh and Swamp', 'Bog', 'Inland Rock', 'Urban', \n",
    "         'Suburban', 'Supra-littoral Rock', 'Supra-littoral Sediment', 'Littoral Rock']\n",
    "\n",
    "# Get numbers from 1-23, corresponding to the landcover values\n",
    "values = range(1, 24)"
   ]
  },
  {
   "cell_type": "code",
   "execution_count": 5,
   "id": "f6db87b5-61bf-49f0-872f-5265ea784a33",
   "metadata": {},
   "outputs": [],
   "source": [
    "# Create a dictionary of landcover value/name pairs\n",
    "landcover_names = dict(zip(values, names))"
   ]
  },
  {
   "cell_type": "code",
   "execution_count": 6,
   "id": "873afaa6-ae00-4a32-92a9-f3245d9953ab",
   "metadata": {},
   "outputs": [],
   "source": [
    "# Load the wards shapefile\n",
    "wards = gpd.read_file(wards_path)\n"
   ]
  },
  {
   "cell_type": "code",
   "execution_count": 29,
   "id": "fa69ec7d-c122-443f-8af2-9ce36b7fb1d6",
   "metadata": {},
   "outputs": [],
   "source": [
    "# Read the raster file\n",
    "try:\n",
    "    with rasterio.open(raster_path) as src:\n",
    "        # Get the affine transformation matrix\n",
    "        affine_tfm = src.transform\n",
    "        \n",
    "        # Read the raster as a numpy array\n",
    "        landcover = src.read(1)\n",
    "        \n",
    "        # Get the nodata value\n",
    "        nodata = src.nodata\n",
    "except Exception as e:\n",
    "    print(\"Error reading raster file:\", e)"
   ]
  },
  {
   "cell_type": "code",
   "execution_count": 8,
   "id": "f0d791a1-6b83-4aeb-8595-48d7c578a6fd",
   "metadata": {},
   "outputs": [],
   "source": [
    "# Check and update the raster bounds\n",
    "geom_bounds = wards.total_bounds\n",
    "if any(not np.isfinite(coord) for coord in geom_bounds):\n",
    "    print(\"Warning: Invalid bounding box coordinates detected. Attempting to correct...\")\n",
    "    valid_geom = box(*wards.geometry.total_bounds)\n",
    "    geom_bounds = valid_geom.bounds\n",
    "    print(\"Corrected bounding box:\", geom_bounds)\n"
   ]
  },
  {
   "cell_type": "code",
   "execution_count": 9,
   "id": "02cb588f-d0b6-4b2b-819e-28f4b48220a0",
   "metadata": {},
   "outputs": [
    {
     "name": "stderr",
     "output_type": "stream",
     "text": [
      "C:\\Users\\ellawallace\\anaconda3\\envs\\egm722\\Lib\\site-packages\\rasterstats\\io.py:328: NodataWarning: Setting nodata to -999; specify nodata explicitly\n",
      "  warnings.warn(\n"
     ]
    }
   ],
   "source": [
    "# Use rasterstats.zonal_stats() to get zonal statistics for Liverpool wards\n",
    "try:\n",
    "    ward_stats = rasterstats.zonal_stats(wards,\n",
    "                                         landcover,\n",
    "                                         affine=affine_tfm,\n",
    "                                         categorical=True,\n",
    "                                         category_map=landcover_names,\n",
    "                                         nodata=nodata)\n",
    "except OverflowError as e:\n",
    "    print(\"Error:\", e)\n",
    "    print(\"OverflowError encountered. Please check the raster bounds and try again.\")\n"
   ]
  },
  {
   "cell_type": "code",
   "execution_count": 10,
   "id": "35adcae6-9584-438f-aaab-e926b62dc57e",
   "metadata": {},
   "outputs": [],
   "source": [
    "# Create a dictionary of landcover stats by ward\n",
    "ward_dict = dict(zip(wards['wardname'].str.title(), ward_stats))\n"
   ]
  },
  {
   "cell_type": "code",
   "execution_count": 11,
   "id": "9873ad84-afcc-41fb-a593-34ff8dfbe12b",
   "metadata": {},
   "outputs": [
    {
     "name": "stdout",
     "output_type": "stream",
     "text": [
      "Keys in landcover_names dictionary:\n",
      "dict_keys([1, 2, 3, 4, 5, 6, 7, 8, 9, 10, 11, 12, 13, 14, 15, 16, 17, 18, 19, 20, 21, 22, 23])\n"
     ]
    }
   ],
   "source": [
    "# Check keys in landcover_names dictionary\n",
    "print(\"Keys in landcover_names dictionary:\")\n",
    "print(landcover_names.keys())\n"
   ]
  },
  {
   "cell_type": "code",
   "execution_count": 12,
   "id": "524e9958-93cb-470b-8891-f4ff16e36a51",
   "metadata": {},
   "outputs": [
    {
     "name": "stdout",
     "output_type": "stream",
     "text": [
      "\n",
      "Keys in ward_data dictionary for the first ward:\n",
      "dict_keys([])\n"
     ]
    }
   ],
   "source": [
    "# Check keys in ward_data dictionary for a specific ward\n",
    "ward_data = ward_dict.get(wards['wardname'].iloc[0].title(), {})\n",
    "print(\"\\nKeys in ward_data dictionary for the first ward:\")\n",
    "print(ward_data.keys())\n"
   ]
  },
  {
   "cell_type": "code",
   "execution_count": 13,
   "id": "7beae816-db86-4e66-80c8-b6cef59232c8",
   "metadata": {},
   "outputs": [],
   "source": [
    "# Add landcover stats to the wards table\n",
    "short_names = ['broadleaf', 'coniferous', 'arable', 'imp_grass', 'nat_grass',\n",
    "               'mountain', 'saltwater', 'freshwater', 'coastal', 'built_up',\n",
    "               'neutral_grass', 'calcareous_grass', 'acid_grass', 'heather',\n",
    "               'heather_grass', 'fen_marsh_swamp', 'bog', 'inland_rock', 'urban',\n",
    "               'suburban', 'supra_littoral_rock', 'supra_littoral_sediment', 'littoral_rock']\n",
    "short_dict = dict(zip(names, short_names))\n"
   ]
  },
  {
   "cell_type": "code",
   "execution_count": 15,
   "id": "37808e06-3222-44db-b9dc-7381ebca9df8",
   "metadata": {},
   "outputs": [],
   "source": [
    "# Add a default short name for unknown landcover types\n",
    "short_dict.setdefault('Unknown', 'unknown')\n",
    "for ind, row in wards.iterrows():\n",
    "    ward_data = ward_dict.get(row['wardname'].title(), {})  # Use .get() to return an empty dictionary if wardname not found\n",
    "    for name in ward_data.keys():\n",
    "        short_name = short_dict.get(name, 'unknown')\n",
    "        wards.loc[ind, short_name] = ward_data[name]"
   ]
  },
  {
   "cell_type": "code",
   "execution_count": 19,
   "id": "25318432-578a-4858-8d3e-38fe51dee34f",
   "metadata": {},
   "outputs": [
    {
     "name": "stdout",
     "output_type": "stream",
     "text": [
      "   wardnumber           wardname districtna  countyname  nocllrs  \\\n",
      "0         1.0           Aigburth  Liverpool  Merseyside      1.0   \n",
      "1        10.0          Childwall  Liverpool  Merseyside      2.0   \n",
      "2        11.0             Church  Liverpool  Merseyside      1.0   \n",
      "3        12.0  City Centre North  Liverpool  Merseyside      2.0   \n",
      "4        13.0  City Centre South  Liverpool  Merseyside      3.0   \n",
      "\n",
      "          wd23cd                                           geometry  \\\n",
      "0  E05015277\\r\\n  POLYGON ((-2.92245 53.35724, -2.92247 53.35725...   \n",
      "1  E05015286\\r\\n  POLYGON ((-2.88995 53.40698, -2.88971 53.40701...   \n",
      "2  E05015287\\r\\n  POLYGON ((-2.91825 53.39850, -2.91766 53.39844...   \n",
      "3  E05015288\\r\\n  POLYGON ((-2.98199 53.41382, -2.98191 53.41374...   \n",
      "4  E05015289\\r\\n  POLYGON ((-2.97830 53.40529, -2.97827 53.40525...   \n",
      "\n",
      "   broadleaf  coniferous  arable  ...  heather  heather_grass  \\\n",
      "0          0           0       0  ...        0              0   \n",
      "1          0           0       0  ...        0              0   \n",
      "2          0           0       0  ...        0              0   \n",
      "3          0           0       0  ...        0              0   \n",
      "4          0           0       0  ...        0              0   \n",
      "\n",
      "   fen_marsh_swamp  bog  inland_rock  urban  suburban  supra_littoral_rock  \\\n",
      "0                0    0            0      0         0                    0   \n",
      "1                0    0            0      0         0                    0   \n",
      "2                0    0            0      0         0                    0   \n",
      "3                0    0            0      0         0                    0   \n",
      "4                0    0            0      0         0                    0   \n",
      "\n",
      "   supra_littoral_sediment  littoral_rock  \n",
      "0                        0              0  \n",
      "1                        0              0  \n",
      "2                        0              0  \n",
      "3                        0              0  \n",
      "4                        0              0  \n",
      "\n",
      "[5 rows x 30 columns]\n",
      "    wardnumber           wardname districtna  countyname  nocllrs  \\\n",
      "0          1.0           Aigburth  Liverpool  Merseyside      1.0   \n",
      "1         10.0          Childwall  Liverpool  Merseyside      2.0   \n",
      "2         11.0             Church  Liverpool  Merseyside      1.0   \n",
      "3         12.0  City Centre North  Liverpool  Merseyside      2.0   \n",
      "4         13.0  City Centre South  Liverpool  Merseyside      3.0   \n",
      "..         ...                ...        ...         ...      ...   \n",
      "59        63.0    Woolton Village  Liverpool  Merseyside      1.0   \n",
      "60        64.0           Yew Tree  Liverpool  Merseyside      2.0   \n",
      "61         7.0      Brownlow Hill  Liverpool  Merseyside      2.0   \n",
      "62         8.0       Calderstones  Liverpool  Merseyside      1.0   \n",
      "63         9.0            Canning  Liverpool  Merseyside      2.0   \n",
      "\n",
      "           wd23cd                                           geometry  \\\n",
      "0   E05015277\\r\\n  POLYGON ((-2.92245 53.35724, -2.92247 53.35725...   \n",
      "1   E05015286\\r\\n  POLYGON ((-2.88995 53.40698, -2.88971 53.40701...   \n",
      "2   E05015287\\r\\n  POLYGON ((-2.91825 53.39850, -2.91766 53.39844...   \n",
      "3   E05015288\\r\\n  POLYGON ((-2.98199 53.41382, -2.98191 53.41374...   \n",
      "4   E05015289\\r\\n  POLYGON ((-2.97830 53.40529, -2.97827 53.40525...   \n",
      "..            ...                                                ...   \n",
      "59  E05015339\\r\\n  POLYGON ((-2.88378 53.38728, -2.88353 53.38723...   \n",
      "60  E05015340\\r\\n  POLYGON ((-2.88119 53.41964, -2.88120 53.41969...   \n",
      "61  E05015283\\r\\n  POLYGON ((-2.96227 53.41193, -2.96217 53.41173...   \n",
      "62  E05015284\\r\\n  POLYGON ((-2.90230 53.39127, -2.90212 53.39121...   \n",
      "63  E05015285\\r\\n  POLYGON ((-2.96111 53.40749, -2.96027 53.40741...   \n",
      "\n",
      "    broadleaf  coniferous  arable  ...  heather  heather_grass  \\\n",
      "0           0           0       0  ...        0              0   \n",
      "1           0           0       0  ...        0              0   \n",
      "2           0           0       0  ...        0              0   \n",
      "3           0           0       0  ...        0              0   \n",
      "4           0           0       0  ...        0              0   \n",
      "..        ...         ...     ...  ...      ...            ...   \n",
      "59          0           0       0  ...        0              0   \n",
      "60          0           0       0  ...        0              0   \n",
      "61          0           0       0  ...        0              0   \n",
      "62          0           0       0  ...        0              0   \n",
      "63          0           0       0  ...        0              0   \n",
      "\n",
      "    fen_marsh_swamp  bog  inland_rock  urban  suburban  supra_littoral_rock  \\\n",
      "0                 0    0            0      0         0                    0   \n",
      "1                 0    0            0      0         0                    0   \n",
      "2                 0    0            0      0         0                    0   \n",
      "3                 0    0            0      0         0                    0   \n",
      "4                 0    0            0      0         0                    0   \n",
      "..              ...  ...          ...    ...       ...                  ...   \n",
      "59                0    0            0      0         0                    0   \n",
      "60                0    0            0      0         0                    0   \n",
      "61                0    0            0      0         0                    0   \n",
      "62                0    0            0      0         0                    0   \n",
      "63                0    0            0      0         0                    0   \n",
      "\n",
      "    supra_littoral_sediment  littoral_rock  \n",
      "0                         0              0  \n",
      "1                         0              0  \n",
      "2                         0              0  \n",
      "3                         0              0  \n",
      "4                         0              0  \n",
      "..                      ...            ...  \n",
      "59                        0              0  \n",
      "60                        0              0  \n",
      "61                        0              0  \n",
      "62                        0              0  \n",
      "63                        0              0  \n",
      "\n",
      "[64 rows x 30 columns]\n"
     ]
    }
   ],
   "source": [
    "# Reset column names to ensure they are properly set\n",
    "wards.columns = wards.columns.astype(str)\n",
    "\n",
    "# Check if all short_names are present in the DataFrame columns\n",
    "missing_columns = [col for col in short_names if col not in wards.columns]\n",
    "\n",
    "# If there are missing columns, add them with zeros to the DataFrame\n",
    "if missing_columns:\n",
    "    for col in missing_columns:\n",
    "        wards[col] = 0\n",
    "\n",
    "# Calculate percentage area covered by each landcover class in each ward\n",
    "for ind, row in wards.iterrows():\n",
    "    total_area = row[short_names].sum()\n",
    "    if total_area != 0:\n",
    "        wards.loc[ind, short_names] = 100 * row[short_names] / total_area\n",
    "    else:\n",
    "        # Handle the case where the total area is zero (e.g., all landcover classes are zero)\n",
    "        wards.loc[ind, short_names] = 0\n",
    "\n",
    "print(wards.head())\n",
    "print(wards)\n"
   ]
  },
  {
   "cell_type": "code",
   "execution_count": 20,
   "id": "fbe98ae8-836f-4c60-8d38-64143f8ea1e3",
   "metadata": {},
   "outputs": [],
   "source": [
    "import rasterio.features\n",
    "\n",
    "# Convert ward geometries to a list of tuples (geometry, value)\n",
    "shapes = [(geom, 1) for geom in wards['geometry']]"
   ]
  },
  {
   "cell_type": "code",
   "execution_count": 21,
   "id": "69d2b8a0-383e-460a-8859-8a8337b6d53f",
   "metadata": {},
   "outputs": [],
   "source": [
    "# Rasterize the ward outlines\n",
    "ward_mask = rasterio.features.rasterize(\n",
    "    shapes=shapes,\n",
    "    out_shape=landcover.shape,\n",
    "    transform=affine_tfm\n",
    ")\n"
   ]
  },
  {
   "cell_type": "code",
   "execution_count": 24,
   "id": "23d044a6-5535-4094-b671-7287a08f66e7",
   "metadata": {},
   "outputs": [
    {
     "data": {
      "text/plain": [
       "<matplotlib.colorbar.Colorbar at 0x16de08c59a0>"
      ]
     },
     "execution_count": 24,
     "metadata": {},
     "output_type": "execute_result"
    },
    {
     "data": {
      "image/png": "[encoded data removed]",
      "text/plain": [
       "<Figure size 640x480 with 2 Axes>"
      ]
     },
     "metadata": {},
     "output_type": "display_data"
    }
   ],
   "source": [
    "# Visualize the rasterized ward outlines\n",
    "fig, ax = plt.subplots(1, 1)\n",
    "im = ax.imshow(ward_mask)\n",
    "fig.colorbar(im)\n"
   ]
  },
  {
   "cell_type": "code",
   "execution_count": 28,
   "id": "24878c62-4631-41dd-b0c4-103e73c40861",
   "metadata": {},
   "outputs": [
    {
     "name": "stdout",
     "output_type": "stream",
     "text": [
      "   wardnumber           wardname districtna  countyname  nocllrs  \\\n",
      "0         1.0           Aigburth  Liverpool  Merseyside      1.0   \n",
      "1        10.0          Childwall  Liverpool  Merseyside      2.0   \n",
      "2        11.0             Church  Liverpool  Merseyside      1.0   \n",
      "3        12.0  City Centre North  Liverpool  Merseyside      2.0   \n",
      "4        13.0  City Centre South  Liverpool  Merseyside      3.0   \n",
      "\n",
      "          wd23cd                                           geometry  \\\n",
      "0  E05015277\\r\\n  POLYGON ((-2.92245 53.35724, -2.92247 53.35725...   \n",
      "1  E05015286\\r\\n  POLYGON ((-2.88995 53.40698, -2.88971 53.40701...   \n",
      "2  E05015287\\r\\n  POLYGON ((-2.91825 53.39850, -2.91766 53.39844...   \n",
      "3  E05015288\\r\\n  POLYGON ((-2.98199 53.41382, -2.98191 53.41374...   \n",
      "4  E05015289\\r\\n  POLYGON ((-2.97830 53.40529, -2.97827 53.40525...   \n",
      "\n",
      "   broadleaf  coniferous  arable  ...  heather  heather_grass  \\\n",
      "0          0           0       0  ...        0              0   \n",
      "1          0           0       0  ...        0              0   \n",
      "2          0           0       0  ...        0              0   \n",
      "3          0           0       0  ...        0              0   \n",
      "4          0           0       0  ...        0              0   \n",
      "\n",
      "   fen_marsh_swamp  bog  inland_rock  urban  suburban  supra_littoral_rock  \\\n",
      "0                0    0            0      0         0                    0   \n",
      "1                0    0            0      0         0                    0   \n",
      "2                0    0            0      0         0                    0   \n",
      "3                0    0            0      0         0                    0   \n",
      "4                0    0            0      0         0                    0   \n",
      "\n",
      "   supra_littoral_sediment  littoral_rock  \n",
      "0                        0              0  \n",
      "1                        0              0  \n",
      "2                        0              0  \n",
      "3                        0              0  \n",
      "4                        0              0  \n",
      "\n",
      "[5 rows x 30 columns]\n"
     ]
    },
    {
     "data": {
      "image/png": "[encoded data removed]",
      "text/plain": [
       "<Figure size 640x480 with 2 Axes>"
      ]
     },
     "metadata": {},
     "output_type": "display_data"
    }
   ],
   "source": [
    "# Step 1: Load the landcover data (assuming you have already loaded the ward geometries and assigned them to the variable 'wards')\n",
    "\n",
    "import rasterio as rio\n",
    "import geopandas as gpd\n",
    "\n",
    "# Open the Liverpool DEM raster\n",
    "with rio.open('C:/EGM722/egm722/green_space_project/raster/LCM2015_Liverpool.tif') as dataset:\n",
    "    dem = dataset.read(1)\n",
    "\n",
    "\n",
    "# Assuming you have already loaded the ward geometries into a GeoDataFrame named 'wards'\n",
    "\n",
    "# Step 2: Calculate the percentage area covered by each landcover class in each ward\n",
    "\n",
    "short_names = ['broadleaf', 'coniferous', 'arable', 'imp_grass', 'nat_grass', 'mountain', \n",
    "               'saltwater', 'freshwater', 'coastal', 'built_up', 'neutral_grass', \n",
    "               'calcareous_grass', 'acid_grass', 'heather', 'heather_grass', \n",
    "               'fen_marsh_swamp', 'bog', 'inland_rock', 'urban', 'suburban', \n",
    "               'supra_littoral_rock', 'supra_littoral_sediment', 'littoral_rock']\n",
    "\n",
    "for ind, row in wards.iterrows():\n",
    "    total_area = row[short_names].sum()\n",
    "    if total_area != 0:\n",
    "        wards.loc[ind, short_names] = 100 * row[short_names] / total_area\n",
    "    else:\n",
    "        wards.loc[ind, short_names] = 0\n",
    "\n",
    "# Print the updated wards table to check if percentages have been calculated correctly\n",
    "print(wards.head())\n",
    "\n",
    "# Step 3: Visualize the rasterized ward outlines\n",
    "\n",
    "import matplotlib.pyplot as plt\n",
    "\n",
    "# Convert ward geometries to a list of tuples (geometry, value)\n",
    "shapes = [(geom, 1) for geom in wards['geometry']]\n",
    "\n",
    "# Rasterize the ward outlines\n",
    "ward_mask = rio.features.rasterize(\n",
    "    shapes=shapes,\n",
    "    out_shape=landcover.shape,\n",
    "    transform=affine_tfm\n",
    ")\n",
    "\n",
    "# Visualize the rasterized ward outlines\n",
    "fig, ax = plt.subplots(1, 1)\n",
    "im = ax.imshow(ward_mask)\n",
    "fig.colorbar(im)\n",
    "\n",
    "plt.show()  # Display the plot\n"
   ]
  },
  {
   "cell_type": "code",
   "execution_count": 30,
   "id": "d4211599-8ccd-40c2-a87a-890f996ecf58",
   "metadata": {},
   "outputs": [
    {
     "ename": "KeyError",
     "evalue": "'wardname'",
     "output_type": "error",
     "traceback": [
      "\u001b[1;31m---------------------------------------------------------------------------\u001b[0m",
      "\u001b[1;31mKeyError\u001b[0m                                  Traceback (most recent call last)",
      "Cell \u001b[1;32mIn[30], line 57\u001b[0m\n\u001b[0;32m     54\u001b[0m     \u001b[38;5;28mprint\u001b[39m(\u001b[38;5;124m\"\u001b[39m\u001b[38;5;124mOverflowError encountered. Please check the raster bounds and try again.\u001b[39m\u001b[38;5;124m\"\u001b[39m)\n\u001b[0;32m     56\u001b[0m \u001b[38;5;66;03m# Create a dictionary of landcover stats by ward\u001b[39;00m\n\u001b[1;32m---> 57\u001b[0m ward_dict \u001b[38;5;241m=\u001b[39m {\u001b[43mward\u001b[49m\u001b[43m[\u001b[49m\u001b[38;5;124;43m'\u001b[39;49m\u001b[38;5;124;43mwardname\u001b[39;49m\u001b[38;5;124;43m'\u001b[39;49m\u001b[43m]\u001b[49m: ward[\u001b[38;5;124m'\u001b[39m\u001b[38;5;124mproperties\u001b[39m\u001b[38;5;124m'\u001b[39m] \u001b[38;5;28;01mfor\u001b[39;00m ward \u001b[38;5;129;01min\u001b[39;00m ward_stats}\n\u001b[0;32m     59\u001b[0m \u001b[38;5;66;03m# Add landcover stats to the wards table\u001b[39;00m\n\u001b[0;32m     60\u001b[0m \u001b[38;5;28;01mfor\u001b[39;00m name \u001b[38;5;129;01min\u001b[39;00m names:\n",
      "\u001b[1;31mKeyError\u001b[0m: 'wardname'"
     ]
    }
   ],
   "source": [
    "import numpy as np\n",
    "import rasterio\n",
    "import geopandas as gpd\n",
    "import rasterstats\n",
    "from shapely.geometry import box\n",
    "import matplotlib.pyplot as plt\n",
    "\n",
    "# Define the file paths\n",
    "raster_path = r\"C:\\EGM722\\egm722\\green_space_project\\raster\\LCM2015_Liverpool.tif\"\n",
    "wards_path = r\"C:\\EGM722\\egm722\\green_space_project\\data_files\\Lwards.shp\"\n",
    "\n",
    "# Define the landcover class names\n",
    "names = ['Broadleaf woodland', 'Coniferous woodland', 'Arable and Horticulture', 'Improved grassland', \n",
    "         'Semi-natural grassland', 'Mountain, heath, bog', 'Saltwater', 'Freshwater', 'Coastal', \n",
    "         'Built-up areas and gardens', 'Neutral Grassland', 'Calcareous Grassland', 'Acid Grassland', \n",
    "         'Heather', 'Heather grassland', 'Fen, Marsh and Swamp', 'Bog', 'Inland Rock', 'Urban', \n",
    "         'Suburban', 'Supra-littoral Rock', 'Supra-littoral Sediment', 'Littoral Rock']\n",
    "\n",
    "# Load the wards shapefile\n",
    "wards = gpd.read_file(wards_path)\n",
    "\n",
    "# Read the raster file\n",
    "try:\n",
    "    with rasterio.open(raster_path) as src:\n",
    "        # Get the affine transformation matrix\n",
    "        affine_tfm = src.transform\n",
    "        \n",
    "        # Read the raster as a numpy array\n",
    "        landcover = src.read(1)\n",
    "        \n",
    "        # Get the nodata value\n",
    "        nodata = src.nodata\n",
    "except Exception as e:\n",
    "    print(\"Error reading raster file:\", e)\n",
    "\n",
    "# Check and update the raster bounds\n",
    "geom_bounds = wards.total_bounds\n",
    "if any(not np.isfinite(coord) for coord in geom_bounds):\n",
    "    print(\"Warning: Invalid bounding box coordinates detected. Attempting to correct...\")\n",
    "    valid_geom = box(*wards.geometry.total_bounds)\n",
    "    geom_bounds = valid_geom.bounds\n",
    "    print(\"Corrected bounding box:\", geom_bounds)\n",
    "\n",
    "# Use rasterstats.zonal_stats() to get zonal statistics for Liverpool wards\n",
    "try:\n",
    "    ward_stats = rasterstats.zonal_stats(wards,\n",
    "                                         landcover,\n",
    "                                         affine=affine_tfm,\n",
    "                                         categorical=True,\n",
    "                                         category_map={i+1: name for i, name in enumerate(names)},\n",
    "                                         nodata=nodata)\n",
    "except OverflowError as e:\n",
    "    print(\"Error:\", e)\n",
    "    print(\"OverflowError encountered. Please check the raster bounds and try again.\")\n",
    "\n",
    "# Create a dictionary of landcover stats by ward\n",
    "ward_dict = {ward['wardname']: ward['properties'] for ward in ward_stats}\n",
    "\n",
    "# Add landcover stats to the wards table\n",
    "for name in names:\n",
    "    wards[name] = [ward_dict[ward]['value'] if ward_dict.get(ward) else 0 for ward in wards['wardname']]\n",
    "\n",
    "# Calculate percentage area covered by each landcover class in each ward\n",
    "for ind, row in wards.iterrows():\n",
    "    total_area = row[names].sum()\n",
    "    if total_area != 0:\n",
    "        wards.loc[ind, names] = 100 * row[names] / total_area\n",
    "\n",
    "print(wards.head())\n",
    "\n",
    "# Visualize the rasterized ward outlines\n",
    "fig, ax = plt.subplots(1, 1)\n",
    "ax.imshow(ward_mask)\n",
    "fig.colorbar(im)\n",
    "plt.show()\n"
   ]
  },
  {
   "cell_type": "code",
   "execution_count": null,
   "id": "62a115ba-d75e-43ed-a73d-7d8c933da81f",
   "metadata": {},
   "outputs": [],
   "source": []
  }
 ],
 "metadata": {
  "kernelspec": {
   "display_name": "Python 3 (ipykernel)",
   "language": "python",
   "name": "python3"
  },
  "language_info": {
   "codemirror_mode": {
    "name": "ipython",
    "version": 3
   },
   "file_extension": ".py",
   "mimetype": "text/x-python",
   "name": "python",
   "nbconvert_exporter": "python",
   "pygments_lexer": "ipython3",
   "version": "3.12.2"
  }
 },
 "nbformat": 4,
 "nbformat_minor": 5
}
